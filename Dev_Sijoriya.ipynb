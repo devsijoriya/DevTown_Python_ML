{
  "nbformat": 4,
  "nbformat_minor": 0,
  "metadata": {
    "colab": {
      "provenance": []
    },
    "kernelspec": {
      "name": "python3",
      "display_name": "Python 3"
    },
    "language_info": {
      "name": "python"
    }
  },
  "cells": [
    {
      "cell_type": "code",
      "execution_count": null,
      "metadata": {
        "id": "4ov-xPHZbw-F"
      },
      "outputs": [],
      "source": [
        "import numpy as np\n",
        "import pandas as pd\n",
        "import sklearn\n",
        "\n",
        "#using boston housing dataset\n",
        "from sklearn.datasets import load_boston\n",
        "df = load_boston()\n",
        "df.keys()\n",
        "\n",
        "boston = pd.DataFrame(df.data, columns = df.feature_names)\n",
        "# boston.head()                --printing the matrix \n",
        "\n",
        "# adding new column\n",
        "boston ['PRICES'] = df.target\n",
        "#boston.head()                  --printing the matrix\n",
        "#boston.isnull().sum()          --looking for the null values in dataset\n",
        "\n",
        "from sklearn.model_selection import train_test_split\n",
        "\n",
        "x = boston.drop('PRICES', axis = 1)\n",
        "y = boston['PRICES']\n",
        "\n",
        "# training & testing\n",
        "x_train, x_test, y_train, y_test = train_test_split(x, y, test_size = 0.15, random_state = 5)\n",
        "\n",
        "# printing shape\n",
        "\"\"\" print(x_train.shape)\n",
        " print(y_train.shape)\n",
        " print(x_test.shape)\n",
        " print(y_test.shape)\"\"\"\n",
        "\n",
        "from sklearn.linear_model import LinearRegression\n",
        "from sklearn.metrics import mean_squared_error\n",
        "\n",
        "lm = LinearRegression()\n",
        "lm.fit(x_train, y_train)\n",
        "\n",
        "y_train_predict = lm.predict(x_train)\n",
        "rmse = (np.sqrt(mean_squared_error(y_train,y_train_predict)))\n",
        "print(\"Model performing on the training set is= {}\".format(rmse))\n",
        "\n",
        "y_test_predict = lm.predict(x_test)\n",
        "rmse = (np.sqrt(mean_squared_error(y_test,y_test_predict)))\n",
        "print(\"Model performing on the testing set is= {}\".format(rmse))\n",
        "\n"
      ]
    }
  ]
}